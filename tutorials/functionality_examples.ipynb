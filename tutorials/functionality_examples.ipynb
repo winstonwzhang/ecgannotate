{
 "cells": [
  {
   "cell_type": "code",
   "execution_count": 21,
   "id": "e15c9376",
   "metadata": {},
   "outputs": [],
   "source": []
  },
  {
   "cell_type": "code",
   "execution_count": null,
   "id": "98ecbfab",
   "metadata": {},
   "outputs": [],
   "source": [
    "# follow the example test in \"tests/gui_tests.md\" to load example data into the GUI\n",
    "\n",
    "import ecgannotate\n",
    "\n",
    "ecgannotate.gui.runGUI()"
   ]
  },
  {
   "cell_type": "code",
   "execution_count": null,
   "id": "14afc58e",
   "metadata": {},
   "outputs": [],
   "source": []
  }
 ],
 "metadata": {
  "kernelspec": {
   "display_name": "Python 3 (ipykernel)",
   "language": "python",
   "name": "python3"
  },
  "language_info": {
   "codemirror_mode": {
    "name": "ipython",
    "version": 3
   },
   "file_extension": ".py",
   "mimetype": "text/x-python",
   "name": "python",
   "nbconvert_exporter": "python",
   "pygments_lexer": "ipython3",
   "version": "3.11.0"
  }
 },
 "nbformat": 4,
 "nbformat_minor": 5
}
