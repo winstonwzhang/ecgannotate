{
 "cells": [
  {
   "cell_type": "code",
   "execution_count": 21,
   "id": "e15c9376",
   "metadata": {},
   "outputs": [],
   "source": []
  },
  {
   "attachments": {},
   "cell_type": "markdown",
   "id": "633497a4",
   "metadata": {},
   "source": [
    "# Introduction\n",
    "\n",
    "A Python GUI tool for visualizing electrocardiogram (ECG) signal data. The tool can also save user arrhythmia annotations and display heart rate statistics for currently viewed ECG signal.\n",
    "\n",
    "# Step 1\n",
    "\n",
    "Download latest .whl release from the \"Releases\" section of the Github repository \"https://github.com/winstonwzhang/ecgannotate\".\n",
    "\n",
    "Install the wheel file on your local machine. It is recommended to do pip install within a virtual environment such as conda.\n",
    "\n",
    "> pip install ecgannotate-0.2.0-py3-none-any.whl\n",
    "\n",
    "\n",
    "# Step 2\n",
    "\n",
    "Run the following in command line:\n",
    "\n",
    "> ecgannotate\n",
    "\n",
    "Alternatively, open the Python interpreter by running\n",
    "\n",
    "> python\n",
    "\n",
    "and then import the library and run the GUI:\n",
    "\n",
    "> import ecgannotate\n",
    "> from ecgannotate import gui\n",
    "> gui.runGUI()\n",
    "\n",
    "You should see the GUI display pop up like below:\n",
    "\n",
    "![Initialized GUI](../images/gui_init.png)\n"
   ]
  },
  {
   "cell_type": "code",
   "execution_count": 1,
   "id": "98ecbfab",
   "metadata": {},
   "outputs": [
    {
     "name": "stderr",
     "output_type": "stream",
     "text": [
      "libGL error: MESA-LOADER: failed to open swrast: /usr/lib/dri/swrast_dri.so: cannot open shared object file: No such file or directory (search paths /usr/lib/x86_64-linux-gnu/dri:\\$${ORIGIN}/dri:/usr/lib/dri, suffix _dri)\n",
      "libGL error: failed to load driver: swrast\n"
     ]
    }
   ],
   "source": [
    "# run the gui\n",
    "\n",
    "import ecgannotate\n",
    "from ecgannotate import gui\n",
    "gui.runGUI()"
   ]
  },
  {
   "attachments": {},
   "cell_type": "markdown",
   "id": "9b178683",
   "metadata": {},
   "source": [
    "# Step 3\n",
    "\n",
    "Click on the load button to load an example ECG file\n",
    "\n",
    "![Load arrow](../images/gui_arrow_load.png)\n",
    "\n",
    "Once the dialog pops up click on a .npy file from the \"example_data\" folder.\n",
    "\n",
    "![Load dialog](../images/gui_load.png)\n",
    "\n",
    "The GUI shows the first 10 seconds of the ECG signal. You can click \"next window\" and \"previous window\" buttons to navigate through the signal. \n",
    "\n",
    "![Load dialog](../images/gui_view.png)\n",
    "\n",
    "Red dots are plotted to indicate R peaks detected using the Pan-Tompkins peak finding algorithm. The heart rate is calculated for the current window.\n",
    "\n",
    "To add user arrhythmia annotations to the current window (atrial fibrillation, ventricular tachycardia, or noisy signal), you can right click on the ECG signal.\n",
    "\n",
    "![Load dialog](../images/gui_right.png)\n",
    "\n",
    "Annotations are stored in the Annotations Table tab. You can double-click the blue tab to expand the table to a new window.\n",
    "\n",
    "![Load dialog](../images/gui_dock.png)\n",
    "\n",
    "You can click the \"Save Annotations\" tab to save user annotations to a .csv file.\n",
    "\n",
    "# Conclusion\n",
    "\n",
    "A simple GUI tool for physicians and students who need to label ECG signals. The tool can also load other types of time series signals. This tool can be useful for labeling physiological signal datasets for machine learning purposes."
   ]
  }
 ],
 "metadata": {
  "kernelspec": {
   "display_name": "Python 3 (ipykernel)",
   "language": "python",
   "name": "python3"
  },
  "language_info": {
   "codemirror_mode": {
    "name": "ipython",
    "version": 3
   },
   "file_extension": ".py",
   "mimetype": "text/x-python",
   "name": "python",
   "nbconvert_exporter": "python",
   "pygments_lexer": "ipython3",
   "version": "3.11.2"
  }
 },
 "nbformat": 4,
 "nbformat_minor": 5
}
